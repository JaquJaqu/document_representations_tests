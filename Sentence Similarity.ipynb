{
 "cells": [
  {
   "cell_type": "markdown",
   "metadata": {},
   "source": [
    "# Sentence similarity"
   ]
  },
  {
   "cell_type": "markdown",
   "metadata": {},
   "source": [
    "In this notebook, we will explore sentence similarity with the use of four algorithms: TF-IDF, Doc2Vec, InferSent and Sentence-Bert."
   ]
  },
  {
   "cell_type": "code",
   "execution_count": 7,
   "metadata": {},
   "outputs": [
    {
     "name": "stderr",
     "output_type": "stream",
     "text": [
      "[nltk_data] Downloading package punkt to\n",
      "[nltk_data]     /Users/diogo.ferreira/nltk_data...\n",
      "[nltk_data]   Package punkt is already up-to-date!\n"
     ]
    }
   ],
   "source": [
    "import nltk\n",
    "import torch\n",
    "import numpy as np\n",
    "import pandas as pd\n",
    "from nltk import word_tokenize\n",
    "from nltk.stem import WordNetLemmatizer\n",
    "from models.models import InferSent\n",
    "from gensim.models.doc2vec import Doc2Vec\n",
    "from sklearn.feature_extraction.text import TfidfVectorizer\n",
    "from sklearn.metrics.pairwise import cosine_similarity\n",
    "from sentence_transformers import SentenceTransformer\n",
    "nltk.download('punkt')\n",
    "\n",
    "# Number of top news\n",
    "K=5"
   ]
  },
  {
   "cell_type": "markdown",
   "metadata": {},
   "source": [
    "The dataset contains the first 1000 news of https://www.kaggle.com/rmisra/news-category-dataset. We will only use the \"short_description\" field. The goal is to, given a search query, get the top 5 most similar news with different approaches."
   ]
  },
  {
   "cell_type": "code",
   "execution_count": 8,
   "metadata": {},
   "outputs": [],
   "source": [
    "dataset = pd.read_json('dataset/News_Category_Dataset_v2_1000.json', lines=True)"
   ]
  },
  {
   "cell_type": "code",
   "execution_count": 9,
   "metadata": {},
   "outputs": [
    {
     "name": "stdout",
     "output_type": "stream",
     "text": [
      "0      She left her husband. He killed their children...\n",
      "1                               Of course it has a song.\n",
      "2      The actor and his longtime girlfriend Anna Ebe...\n",
      "3      The actor gives Dems an ass-kicking for not fi...\n",
      "4      The \"Dietland\" actress said using the bags is ...\n",
      "                             ...                        \n",
      "995    In one instance, the politician reportedly thr...\n",
      "996    Federal immigration officials say that in sanc...\n",
      "997    \"‘Pulling out’ is a bit of a misnomer,\" the Fo...\n",
      "998                                Orange you intrigued?\n",
      "999    Sometimes we can’t help but wonder if Mother N...\n",
      "Name: short_description, Length: 1000, dtype: object\n"
     ]
    }
   ],
   "source": [
    "news_description = dataset[\"short_description\"]\n",
    "print(news_description)"
   ]
  },
  {
   "cell_type": "markdown",
   "metadata": {},
   "source": [
    "The first step is to create numerical representations of each description the news."
   ]
  },
  {
   "cell_type": "markdown",
   "metadata": {},
   "source": [
    "## TF-IDF\n",
    "The first approach uses TF-IDF to create description representation. Each description is lower cased and lemmatized with WordNet, before create the TF-IDF matrix."
   ]
  },
  {
   "cell_type": "code",
   "execution_count": 11,
   "metadata": {},
   "outputs": [],
   "source": [
    "lemmatizer = WordNetLemmatizer()\n",
    "tfidf_vectorizer = TfidfVectorizer()"
   ]
  },
  {
   "cell_type": "code",
   "execution_count": 12,
   "metadata": {},
   "outputs": [],
   "source": [
    "descriptions_lemmatized = [\" \".join([lemmatizer.lemmatize(token.lower()) for token in word_tokenize(description)]) for description in news_description.values ]"
   ]
  },
  {
   "cell_type": "code",
   "execution_count": 13,
   "metadata": {},
   "outputs": [],
   "source": [
    "descriptions_representation_tfidf = tfidf_vectorizer.fit_transform(descriptions_lemmatized)"
   ]
  },
  {
   "cell_type": "markdown",
   "metadata": {},
   "source": [
    "## Doc2Vec\n",
    "The second approach to create description representations uses the Doc2Vec library, implemented in GenSim. The pre-trained model was downloaded from https://github.com/jhlau/doc2vec. Make sure you download one of the pre-trained Doc2Vec models and save it in the models folder."
   ]
  },
  {
   "cell_type": "code",
   "execution_count": 14,
   "metadata": {},
   "outputs": [],
   "source": [
    "file = \"models/doc2vec.bin\"\n",
    "doc2vec_model = Doc2Vec.load(file)"
   ]
  },
  {
   "cell_type": "code",
   "execution_count": 15,
   "metadata": {},
   "outputs": [],
   "source": [
    "start_alpha = 0.01\n",
    "infer_epoch = 1000\n",
    "documents = [[token for token in nltk.word_tokenize(description.lower())] for description in news_description]\n",
    "embeddings_doc2vec = []\n",
    "for document in documents:\n",
    "    embeddings_doc2vec.append(doc2vec_model.infer_vector(document, alpha=start_alpha, steps=infer_epoch))"
   ]
  },
  {
   "cell_type": "markdown",
   "metadata": {},
   "source": [
    "## InferSent\n",
    "The third approach creates description embeddings using InferSent. The pre-trained model was downloaded from https://github.com/facebookresearch/InferSent. You can download the word embeddings from https://dl.fbaipublicfiles.com/fasttext/vectors-english/crawl-300d-2M.vec.zip and the infersent model from https://dl.fbaipublicfiles.com/infersent/infersent2.pkl. Both should be saved in the models folder."
   ]
  },
  {
   "cell_type": "code",
   "execution_count": 16,
   "metadata": {},
   "outputs": [],
   "source": [
    "V = 2\n",
    "MODEL_PATH = 'models/infersent%s.pkl' % V\n",
    "params_model = {'bsize': 64, 'word_emb_dim': 300, 'enc_lstm_dim': 2048,\n",
    "                'pool_type': 'max', 'dpout_model': 0.0, 'version': V}\n",
    "infersent = InferSent(params_model)\n",
    "infersent.load_state_dict(torch.load(MODEL_PATH))\n",
    "W2V_PATH = 'models/crawl-300d-2M.vec'\n",
    "infersent.set_w2v_path(W2V_PATH)"
   ]
  },
  {
   "cell_type": "code",
   "execution_count": 17,
   "metadata": {},
   "outputs": [
    {
     "name": "stdout",
     "output_type": "stream",
     "text": [
      "Found 4415(/4467) words with w2v vectors\n",
      "Vocab size : 4415\n"
     ]
    }
   ],
   "source": [
    "infersent.build_vocab(news_description.values, tokenize=True)"
   ]
  },
  {
   "cell_type": "code",
   "execution_count": 18,
   "metadata": {},
   "outputs": [],
   "source": [
    "embeddings_infersent = infersent.encode(news_description.values, tokenize=True)"
   ]
  },
  {
   "cell_type": "markdown",
   "metadata": {},
   "source": [
    "## Sentence-Bert\n",
    "The last approach creates description embeddings using Sentence Transformers."
   ]
  },
  {
   "cell_type": "code",
   "execution_count": 19,
   "metadata": {},
   "outputs": [],
   "source": [
    "model = SentenceTransformer('distilbert-base-nli-stsb-mean-tokens')"
   ]
  },
  {
   "cell_type": "code",
   "execution_count": 20,
   "metadata": {},
   "outputs": [],
   "source": [
    "embeddings_distilbert = model.encode(news_description.values)"
   ]
  },
  {
   "cell_type": "markdown",
   "metadata": {},
   "source": [
    "Now that the description representations are calculated, it is needed to calculate the representation of the input query and its similarity with all other descriptions. For that, the function below uses the cosine sinimlarity between vectors and returns the K indexes with the most similar representations."
   ]
  },
  {
   "cell_type": "code",
   "execution_count": 21,
   "metadata": {},
   "outputs": [],
   "source": [
    "def find_similar(vector_representation, all_representations, k=1):\n",
    "    similarity_matrix = cosine_similarity(vector_representation, all_representations)\n",
    "    np.fill_diagonal(similarity_matrix, 0)\n",
    "    similarities = similarity_matrix[0]\n",
    "    if k == 1:\n",
    "        return [np.argmax(similarities)]\n",
    "    elif k is not None:\n",
    "        return np.flip(similarities.argsort()[-k:][::1])\n",
    "    "
   ]
  },
  {
   "cell_type": "markdown",
   "metadata": {},
   "source": [
    "Let's test the most similar news with different queries and test the performance of the different algorithms."
   ]
  },
  {
   "cell_type": "code",
   "execution_count": 23,
   "metadata": {
    "scrolled": false
   },
   "outputs": [
    {
     "name": "stdout",
     "output_type": "stream",
     "text": [
      "Description: Democrats win republicans in election.\n",
      "\n",
      "5 most similar descriptions using TF-IDF\n",
      "Democrat Richard Cordray will face Republican Mike DeWine in November.\n",
      "Ohio state Sen. Troy Balderson now will face a Democrat in an Aug. 7 special election.\n",
      "Republican Morrisey will face Sen. Joe Manchin, a conservative Democrat who has voted for the president's agenda 61 percent of the time.\n",
      "Haspel looks all but assured to win confirmation in a vote before the full Senate.\n",
      "\"I win either way,\" second-place finisher Caleb Lee Hutchinson said.\n",
      "\n",
      "5 most similar descriptions using Doc2Vec\n",
      "*Sends giftbasket to Marvel*\n",
      "Democrats are targeting the seat, and a former Marine is their candidate.\n",
      "He defeated two congressmen and will challenge Democratic Sen. Joe Donnelly in November.\n",
      "Vote counting will begin Saturday.\n",
      "Paulette Jordan won the Democratic primary in the Idaho governor's race.\n",
      "\n",
      "5 most similar descriptions using Infersent\n",
      "Democrat Richard Cordray will face Republican Mike DeWine in November.\n",
      "McConnell's official campaign account trolls West Virginia GOP primary loser.\n",
      "Paulette Jordan won the Democratic primary in the Idaho governor's race.\n",
      "McGrath's victory continues the success women and political newcomers have found in Democratic primaries.\n",
      "Unions denounced the president's actions an “assault on democracy.”\n",
      "\n",
      "5 most similar descriptions using Sentence-Bert\n",
      "He defeated two congressmen and will challenge Democratic Sen. Joe Donnelly in November.\n",
      "Democrats are targeting the seat, and a former Marine is their candidate.\n",
      "McGrath's victory continues the success women and political newcomers have found in Democratic primaries.\n",
      "Paulette Jordan won the Democratic primary in the Idaho governor's race.\n",
      "The measure’s passage is a significant victory for voting rights advocates.\n",
      "\n",
      "Description: Another whistleblower complaint in EU.\n",
      "\n",
      "5 most similar descriptions using TF-IDF\n",
      "But don't count on Robert Mueller to nail him, the NSA whistleblower warns.\n",
      "The whistleblower said two files about Cohen's business dealings are missing from a government database.\n",
      "“We have to preserve this agreement so we don’t have to negotiate a new agreement,” the EU's energy chief said.\n",
      "These Americans deserve to be more than another statistic.\n",
      "One 16-year-old filed a complaint alleging that a Border Patrol agent \"threw him down and smashed his head into the ground with his boot.\"\n",
      "\n",
      "5 most similar descriptions using Doc2Vec\n",
      "*Sends giftbasket to Marvel*\n",
      "From #CoupleGoals to #ExGoals.\n",
      "The Pulitzer Prize-winning artist gave her another shot.\n",
      "The officer, working as a security guard, is accused of punching one woman in the head, then holding her and another woman to the ground.\n",
      "It's over.\n",
      "\n",
      "5 most similar descriptions using Infersent\n",
      "The whistleblower said two files about Cohen's business dealings are missing from a government database.\n",
      "Plaintiffs complained that the state violated the 1993 National Voter Registration Act.\n",
      "The Missouri governor’s lawyers accuse St. Louis Circuit Attorney Kim Gardner of misconduct in the felony case.\n",
      "The Islamic State claimed responsibility.\n",
      "Unions denounced the president's actions an “assault on democracy.”\n",
      "\n",
      "5 most similar descriptions using Sentence-Bert\n",
      "The national security adviser believes the U.S. can force European nations to abandon the historic Iran nuclear accord.\n",
      "“We have to preserve this agreement so we don’t have to negotiate a new agreement,” the EU's energy chief said.\n",
      "There's a delicious schadenfreude in seeing a powerful abuser finally held accountable.\n",
      "Lawmakers have passed a bill to roll back regulations adopted after the 2008 financial crisis.\n",
      "\"We are attempting to make sense of what, precisely, President Trump means.\"\n",
      "\n",
      "Description: It was released the best movie of the year.\n",
      "\n",
      "5 most similar descriptions using TF-IDF\n",
      "\"Be Best,\" Mr. President.\n",
      "The House released all 3,000 of the ads on Thursday.\n",
      "2017 had the lowest percentage of queer movie characters in five years.\n",
      "They even sang some of the Spice Girls' best hits.\n",
      "Among the information released was an interview with Donald Trump, Jr.\n",
      "\n",
      "5 most similar descriptions using Doc2Vec\n",
      "\"Be Best,\" Mr. President.\n",
      "Just a week after its release, it's already his biggest hit ever.\n",
      "The film \"Us\" will hit theaters next March.\n",
      "It's all in the details.\n",
      "The movie most worth watching has a lot to say about the times we live in.\n",
      "\n",
      "5 most similar descriptions using Infersent\n",
      "“It was just the worst month of my life.”\n",
      "The movie most worth watching has a lot to say about the times we live in.\n",
      "There's a great mini-series joining this week.\n",
      "2017 had the lowest percentage of queer movie characters in five years.\n",
      "Just a week after its release, it's already his biggest hit ever.\n",
      "\n",
      "5 most similar descriptions using Sentence-Bert\n",
      "You're getting a recent Academy Award-winning movie.\n",
      "\"Girl\" was deemed \"a stunning debut\" for its director and star.\n",
      "“This is the biggest accomplishment of my career.”\n",
      "The film has reportedly been in the works since before the former network CEO's death last year.\n",
      "The movie most worth watching has a lot to say about the times we live in.\n",
      "\n",
      "Description: Stand-up comedy solo in London this year.\n",
      "\n",
      "5 most similar descriptions using TF-IDF\n",
      "Fox canceled the hit comedy on Thursday.\n",
      "A “Solo” writer opened up about Lando Calrissian’s fluid sexuality and his desire for “a more explicitly LGBT character.”\n",
      "The \"Solo\" star's Wookiee mistake is pretty hilarious.\n",
      "Thirty-five years ago today, Michael Jackson took the stage and made an indelible impact on pop culture with his solo performance\n",
      "Khloé Kardashian is opening up about why she decided to name her daughter True. The “Keeping Up With the Kardashians” star\n",
      "\n",
      "5 most similar descriptions using Doc2Vec\n",
      "Fox canceled the hit comedy on Thursday.\n",
      "This is royally funny.\n",
      "Of course it has a song.\n",
      "The \"Solo\" star's Wookiee mistake is pretty hilarious.\n",
      "*Sends giftbasket to Marvel*\n",
      "\n",
      "5 most similar descriptions using Infersent\n",
      "Apparently, it's that time of year already.\n",
      "\"For the first time in 8 years I feel like dancing.\"\n",
      "The season finale was a shocker.\n",
      "And it's narrated by the comedian, too.\n",
      "Fox canceled the hit comedy on Thursday.\n",
      "\n",
      "5 most similar descriptions using Sentence-Bert\n",
      "The comedian also \"can't wait\" to play Jennifer Aniston's wife on \"First Ladies.\"\n",
      "The comedian has a workaround.\n",
      "He also opened up about his new role in \"The Boys in the Band\" on Broadway.\n",
      "The \"Merc With A Mouth\" takes over the \"Late Show\" monologue.\n",
      "\"The Break with Michelle Wolf\" starts May 27.\n",
      "\n",
      "Description: Artificial intelligence will take over our jobs.\n",
      "\n",
      "5 most similar descriptions using TF-IDF\n",
      "It's over.\n",
      "There’s a reason the voice of Shuri’s artificial intelligence computer system sounded so familiar — at least to those who routinely watch Comedy Central.\n",
      "“To see our elected leaders do nothing over and over again, it’s just an incredibly sad situation.”\n",
      "The \"Merc With A Mouth\" takes over the \"Late Show\" monologue.\n",
      "\"We thank God, and all our families and friends who prayed for us and for our return.\"\n",
      "\n",
      "5 most similar descriptions using Doc2Vec\n",
      "*Sends giftbasket to Marvel*\n",
      "\"Thinking of you all today and every day.\"\n",
      "It's over.\n",
      "\"They'll see and they'll know...\"\n",
      "We'll take a full album, please.\n",
      "\n",
      "5 most similar descriptions using Infersent\n",
      "It's over.\n",
      "\"They'll see and they'll know...\"\n",
      "This will be the first state mandate of its kind.\n",
      "But they might need a reality check.\n",
      "We'll take a full album, please.\n",
      "\n",
      "5 most similar descriptions using Sentence-Bert\n",
      "Your next boss could be an algorithm\n",
      "“We’re seeing a resegregation of society that’s catalyzed by algorithms,” Wylie said Wednesday.\n",
      "“Our results suggest that, given narrow margins of victories in each vote, bots’ effect was likely marginal but possibly large enough to affect the outcomes.\"\n",
      "He was warned he might be \"the genius that created a digital monster that is destroying our democracies.\"\n",
      "Tech entrepreneur Dan Price is working to curb the dangers of \"unbridled capitalism.\"\n",
      "\n",
      "Description: The police caught the murderer and he is now in custody, waiting for the court decision.\n",
      "\n",
      "5 most similar descriptions using TF-IDF\n",
      "The Netflix movie finds a teen caught between a girlfriend and a boy crush.\n",
      "A bystander was also beaten bloody in the attack, which was caught on camera.\n",
      "Opponents to the measure have vowed to challenge the ban in court.\n",
      "The firm at the center of the Facebook data hack made the decision after suffering a sharp drop in business.\n",
      "The rapper said he and the president had become the focus of the summit.\n",
      "\n"
     ]
    },
    {
     "name": "stdout",
     "output_type": "stream",
     "text": [
      "5 most similar descriptions using Doc2Vec\n",
      "An inmate’s sex assigned at birth will now be used to make the initial decision as to where transgender prisoners are housed.\n",
      "*Sends giftbasket to Marvel*\n",
      "It's over.\n",
      "The officers who took Robinson into custody have been reassigned pending an investigation.\n",
      "The TV reboot's hero now lives on the razor's edge.\n",
      "\n",
      "5 most similar descriptions using Infersent\n",
      "The officers who took Robinson into custody have been reassigned pending an investigation.\n",
      "A male student, believed to be the suspect, has been detained, according to police.\n",
      "The president also asked the attorney general to charge the mayor of Oakland with obstruction of justice for warning residents about planned immigration arrests.\n",
      "A police sergeant on the scene denied even knowing what Airbnb was.\n",
      "Trump has asked the Justice Department to look into whether an FBI informant infiltrated his campaign for political purposes.\n",
      "\n",
      "5 most similar descriptions using Sentence-Bert\n",
      "*Patiently waits for first photo*\n",
      "The 26-year-old's plea comes amid rioting at the prison where he has been held without trial since 2016.\n",
      "They still deserve detention.\n",
      "But don't count on Robert Mueller to nail him, the NSA whistleblower warns.\n",
      "The officers who took Robinson into custody have been reassigned pending an investigation.\n",
      "\n",
      "Description: They won the cup in their home stadium.\n",
      "\n",
      "5 most similar descriptions using TF-IDF\n",
      "\"They have made a political decision. And they have every right to do that because they won the election,” Thomas Brunell said.\n",
      "\"They sit there with their hands in their pockets, pockets that are full of gun money, and they do nothing.\"\n",
      "Paulette Jordan won the Democratic primary in the Idaho governor's race.\n",
      "But they might be overestimating what their legislation would do.\n",
      "\"They'll see and they'll know...\"\n",
      "\n",
      "5 most similar descriptions using Doc2Vec\n",
      "*Sends giftbasket to Marvel*\n",
      "\"They have made a political decision. And they have every right to do that because they won the election,” Thomas Brunell said.\n",
      "Their expressions say it all.\n",
      "Teams can set their own policies for punishing players.\n",
      "They even sang some of the Spice Girls' best hits.\n",
      "\n",
      "5 most similar descriptions using Infersent\n",
      "“It’s important that we learn from their experience.\"\n",
      "This deserves an award of its own.\n",
      "\"They'll see and they'll know...\"\n",
      "\"I will tell them exactly what I think of their behavior.\"\n",
      "Teams can set their own policies for punishing players.\n",
      "\n",
      "5 most similar descriptions using Sentence-Bert\n",
      "The Oakland A's player patted his heart and looked skyward as he touched home plate. \"It was pure joy,\" he said later.\n",
      "“This is the biggest accomplishment of my career.”\n",
      "\"He's really lucky to be alive,\" a neighbor said.\n",
      "\"These people were incredibly lucky,\" says a park spokesman.\n",
      "The gun group has worked to \"perpetuate the culture of violence that we have in our country,\" the congresswoman said.\n",
      "\n"
     ]
    }
   ],
   "source": [
    "descriptions = [\"Democrats win republicans in election.\",\n",
    "                \"Another whistleblower complaint in EU.\",\n",
    "                \"It was released the best movie of the year.\",\n",
    "                \"Stand-up comedy solo in London this year.\",\n",
    "                \"Artificial intelligence will take over our jobs.\",\n",
    "                \"The police caught the murderer and he is now in custody, waiting for the court decision.\",\n",
    "                \"They won the cup in their home stadium.\"]\n",
    "\n",
    "for description in descriptions:\n",
    "    print(\"Description: {}\".format(description))\n",
    "    print()\n",
    "    \n",
    "    tf_idf_similar_indexes = find_similar(tfidf_vectorizer.transform([\" \".join([lemmatizer.lemmatize(token.lower()) for token in word_tokenize(description)])]), descriptions_representation_tfidf, K)\n",
    "    print(\"5 most similar descriptions using TF-IDF\")\n",
    "    for index in tf_idf_similar_indexes:\n",
    "        print(news_description[index])\n",
    "    print()\n",
    "    \n",
    "    doc2vec_similar_indexes = find_similar([doc2vec_model.infer_vector([token for token in nltk.word_tokenize(description.lower())], alpha=start_alpha, steps=infer_epoch)], embeddings_doc2vec, K)\n",
    "    print(\"5 most similar descriptions using Doc2Vec\")\n",
    "    for index in doc2vec_similar_indexes:\n",
    "        print(news_description[index])\n",
    "    print()\n",
    "    \n",
    "    infersent_similar_indexes = find_similar(infersent.encode([description], tokenize=True), embeddings_infersent, K)\n",
    "    print(\"5 most similar descriptions using Infersent\")\n",
    "    for index in infersent_similar_indexes:\n",
    "        print(news_description[index])\n",
    "    print()\n",
    "    \n",
    "    distilbert_similar_indexes = find_similar(model.encode([description]), embeddings_distilbert, K)\n",
    "    print(\"5 most similar descriptions using Sentence-Bert\")\n",
    "    for index in distilbert_similar_indexes:\n",
    "        print(news_description[index])\n",
    "    print()"
   ]
  },
  {
   "cell_type": "code",
   "execution_count": null,
   "metadata": {},
   "outputs": [],
   "source": []
  }
 ],
 "metadata": {
  "kernelspec": {
   "display_name": "Python 3",
   "language": "python",
   "name": "python3"
  },
  "language_info": {
   "codemirror_mode": {
    "name": "ipython",
    "version": 3
   },
   "file_extension": ".py",
   "mimetype": "text/x-python",
   "name": "python",
   "nbconvert_exporter": "python",
   "pygments_lexer": "ipython3",
   "version": "3.7.4"
  }
 },
 "nbformat": 4,
 "nbformat_minor": 2
}
